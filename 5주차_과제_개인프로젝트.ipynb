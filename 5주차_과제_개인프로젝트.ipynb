{
  "nbformat": 4,
  "nbformat_minor": 0,
  "metadata": {
    "colab": {
      "name": "5주차 과제_개인프로젝트.ipynb",
      "provenance": [],
      "collapsed_sections": [],
      "authorship_tag": "ABX9TyPxX3tZfKPzaagPVFpt54UI",
      "include_colab_link": true
    },
    "kernelspec": {
      "name": "python3",
      "display_name": "Python 3"
    },
    "language_info": {
      "name": "python"
    }
  },
  "cells": [
    {
      "cell_type": "markdown",
      "metadata": {
        "id": "view-in-github",
        "colab_type": "text"
      },
      "source": [
        "<a href=\"https://colab.research.google.com/github/pansy-2022/2022start/blob/main/5%EC%A3%BC%EC%B0%A8_%EA%B3%BC%EC%A0%9C_%EA%B0%9C%EC%9D%B8%ED%94%84%EB%A1%9C%EC%A0%9D%ED%8A%B8.ipynb\" target=\"_parent\"><img src=\"https://colab.research.google.com/assets/colab-badge.svg\" alt=\"Open In Colab\"/></a>"
      ]
    },
    {
      "cell_type": "markdown",
      "source": [
        "# 지하철 승하차 데이터를 활용하여 궁금증 해소하기\n",
        "\n",
        "활용한 데이터 (서울시 교통공사 데이터)\n",
        ": https://data.seoul.go.kr/dataList/OA-12921/F/1/datasetView.do#\n",
        "\n",
        "궁금증\n",
        "\n",
        "1) 출근 시간 or 퇴근 시간 가장 붐비는 역은 어디지?\n",
        "\n",
        "2) 원하는 역을 입력하면 10년 전과 지금의 승하차 인원 정보 알 수 있을까?\n",
        "\n",
        "\n"
      ],
      "metadata": {
        "id": "0ZwuzbWNFOPt"
      }
    },
    {
      "cell_type": "markdown",
      "source": [
        "**1) 출근 시간과 퇴근 시간 가장 붐비는 지역 알아보기 (2021년 자료 활용하기)**"
      ],
      "metadata": {
        "id": "M65RQGTeHc4E"
      }
    },
    {
      "cell_type": "markdown",
      "source": [
        "1) 데이터 업로드 확인하기"
      ],
      "metadata": {
        "id": "Ki-ogz6OJApS"
      }
    },
    {
      "cell_type": "code",
      "execution_count": 1,
      "metadata": {
        "colab": {
          "base_uri": "https://localhost:8080/"
        },
        "id": "-jxYTyLjFIyj",
        "outputId": "4aee31bf-1b69-466e-e9a0-e73b0990d64f"
      },
      "outputs": [
        {
          "output_type": "stream",
          "name": "stdout",
          "text": [
            "metro2011.csv  metro2021.csv  \u001b[0m\u001b[01;34msample_data\u001b[0m/\n"
          ]
        }
      ],
      "source": [
        "ls"
      ]
    },
    {
      "cell_type": "markdown",
      "source": [
        "2) 한글 폰트 세팅하기"
      ],
      "metadata": {
        "id": "urOfC2cbJF2B"
      }
    },
    {
      "cell_type": "code",
      "source": [
        "!apt-get install fonts-nanum -qq > /dev/null\n",
        "!fc-cache -fv\n",
        "import matplotlib as mpl\n",
        "mpl.font_manager._rebuild()\n",
        "findfont = mpl.font_manager.fontManager.findfont\n",
        "mpl.font_manager.findfont = findfont\n",
        "mpl.backends.backend_agg.findfont = findfont"
      ],
      "metadata": {
        "colab": {
          "base_uri": "https://localhost:8080/"
        },
        "id": "CNFr48LJHxUY",
        "outputId": "d6875c9d-5860-4f0d-acd6-d03f0707c0f3"
      },
      "execution_count": 2,
      "outputs": [
        {
          "output_type": "stream",
          "name": "stdout",
          "text": [
            "/usr/share/fonts: caching, new cache contents: 0 fonts, 1 dirs\n",
            "/usr/share/fonts/truetype: caching, new cache contents: 0 fonts, 3 dirs\n",
            "/usr/share/fonts/truetype/humor-sans: caching, new cache contents: 1 fonts, 0 dirs\n",
            "/usr/share/fonts/truetype/liberation: caching, new cache contents: 16 fonts, 0 dirs\n",
            "/usr/share/fonts/truetype/nanum: caching, new cache contents: 10 fonts, 0 dirs\n",
            "/usr/local/share/fonts: caching, new cache contents: 0 fonts, 0 dirs\n",
            "/root/.local/share/fonts: skipping, no such directory\n",
            "/root/.fonts: skipping, no such directory\n",
            "/var/cache/fontconfig: cleaning cache directory\n",
            "/root/.cache/fontconfig: not cleaning non-existent cache directory\n",
            "/root/.fontconfig: not cleaning non-existent cache directory\n",
            "fc-cache: succeeded\n"
          ]
        }
      ]
    },
    {
      "cell_type": "code",
      "source": [
        "import matplotlib.pyplot as plt\n",
        "plt.rc('font', family = 'NanumGothic')\n",
        "plt.rcParams['axes.unicode_minus'] = False\n",
        "plt.title('한글제목')\n",
        "plt.plot([-1,0,1])\n",
        "plt.show()"
      ],
      "metadata": {
        "colab": {
          "base_uri": "https://localhost:8080/",
          "height": 279
        },
        "id": "OzVDgUpSHxfT",
        "outputId": "ce39bf8d-188a-44af-c36c-868380908e37"
      },
      "execution_count": 3,
      "outputs": [
        {
          "output_type": "display_data",
          "data": {
            "text/plain": [
              "<Figure size 432x288 with 1 Axes>"
            ],
            "image/png": "[encoded data removed]"
          },
          "metadata": {
            "needs_background": "light"
          }
        }
      ]
    },
    {
      "cell_type": "markdown",
      "source": [
        "**문제해결과정**\n",
        "\n",
        "1) 출근 시간과 퇴근 시간 정의하기 : 7:00~9:00, 17:00~19:00\n",
        "\n",
        "2) 출근 시간 인원 누적해서 더하기 (퇴근 시간 인원도 누적해서 더하기) \n",
        "\n",
        "3) 누적해서 더한 값 저장하기\n",
        "\n",
        "4) 저장 후 값이 가장 큰 역 도출하기\n"
      ],
      "metadata": {
        "id": "HxtHzBjBJMtj"
      }
    },
    {
      "cell_type": "code",
      "source": [
        "import csv\n",
        "data = csv.reader(open('metro2021.csv',encoding = 'CP949'))\n",
        "\n",
        "\n",
        "next(data)\n",
        "\n",
        "a = 0\n",
        "b = 0\n",
        "c = 0\n",
        "d = 0\n",
        "name_m = ''\n",
        "name_n = ''\n",
        "\n",
        "for row in data :\n",
        "  if row[5] =='승차':\n",
        "    a = int(row[8]) + int(row[9])\n",
        "    if a > b :\n",
        "      b = a\n",
        "      name_m = row[4]\n",
        "  if row[5] == '하차' :\n",
        "    c = int(row[18]) + int(row[19])\n",
        "    if c > d :\n",
        "      d = c\n",
        "      name_n = row[4]\n",
        "\n",
        "print(f'{name_m}(역)이 {b}명으로 출근 시간에 제일 붐빕니다. ')\n",
        "\n",
        "print(f'{name_n}(역)이 {d}명으로 퇴근 시간에 제일 붐빕니다. ')\n",
        "\n",
        "\n"
      ],
      "metadata": {
        "id": "LLOUMUk4HyEP",
        "colab": {
          "base_uri": "https://localhost:8080/"
        },
        "outputId": "5a715942-0d32-44cd-cd2d-a357d525a9c7"
      },
      "execution_count": 26,
      "outputs": [
        {
          "output_type": "stream",
          "name": "stdout",
          "text": [
            "신림(역)이 22364명으로 출근 시간에 제일 붐빕니다. \n",
            "잠실(송파구청)(역)이 17385명으로 퇴근 시간에 제일 붐빕니다. \n"
          ]
        }
      ]
    },
    {
      "cell_type": "code",
      "source": [],
      "metadata": {
        "id": "Df0kATwFI9kJ"
      },
      "execution_count": null,
      "outputs": []
    },
    {
      "cell_type": "code",
      "source": [],
      "metadata": {
        "id": "dEuwXKhGI9vu"
      },
      "execution_count": null,
      "outputs": []
    },
    {
      "cell_type": "markdown",
      "source": [
        "**2) 원하는 역을 입력하여 10년 전과 지금의 승하차 인원 변화 알아보기(2021년, 2011년 자료 활용하기)**"
      ],
      "metadata": {
        "id": "Cg99Ipa7HybV"
      }
    },
    {
      "cell_type": "markdown",
      "source": [
        "1) 원하는 지역 input으로 입력 받기\n",
        "\n",
        "2) 원하는 지역의 2021년 자료와 2011년 자료 각각 리스트에 저장하기\n",
        "\n",
        "3) 각각 출력하기\n",
        "\n",
        "4) 증설된 역이 있어 값의 변화를 알기 힘든 경우에는? \n",
        "\n",
        "궁금점: '서울역'과 '서울'이라고 되어 있는 경우 두 개 다 서울역으로 받으려면 어떻게 해야하지?ㅠㅠ\n",
        "\n"
      ],
      "metadata": {
        "id": "B259w-P_iybV"
      }
    },
    {
      "cell_type": "code",
      "source": [
        "import csv\n",
        "data1 = csv.reader(open('metro2021.csv',encoding = 'CP949'))\n",
        "data2 = csv.reader(open('metro2011.csv',encoding = 'CP949'))\n",
        "next(data1)\n",
        "next(data2)\n",
        "\n",
        "station = input('원하는 역을 입력해주세요. ex)______역 : ')\n",
        "\n",
        "if station == '서울' :\n",
        "  station = '서울역'\n",
        "  \n",
        "a = []\n",
        "b = []\n",
        "for row in data1 :\n",
        "  if station == row[4]  :\n",
        "    a.append(int(row[25]))\n",
        "\n",
        "for row in data2 :\n",
        "  if station == row[4] :\n",
        "    b.append(int(row[25]))\n",
        "\n",
        "if sum(a)-sum(b) == 0 :\n",
        "  print(f'{station}은 증설된 역이기 때문에 변화가 없습니다.')\n",
        "else :\n",
        "  print(f'{station}의 승하차 인원 변화 : {sum(a)-sum(b)}')\n",
        "\n",
        "\n"
      ],
      "metadata": {
        "id": "ybTGBgzCH_UV",
        "colab": {
          "base_uri": "https://localhost:8080/"
        },
        "outputId": "a12aa810-0822-460e-965f-a2425fbc7ba3"
      },
      "execution_count": 11,
      "outputs": [
        {
          "output_type": "stream",
          "name": "stdout",
          "text": [
            "원하는 역을 입력해주세요. ex)______역 : 김포공항\n",
            "김포공항의 승하차 인원 변화 : 4803625\n"
          ]
        }
      ]
    },
    {
      "cell_type": "code",
      "source": [],
      "metadata": {
        "id": "F5Ajn91_H_xC"
      },
      "execution_count": null,
      "outputs": []
    },
    {
      "cell_type": "code",
      "source": [],
      "metadata": {
        "id": "fZaNAN5CH_9I"
      },
      "execution_count": null,
      "outputs": []
    },
    {
      "cell_type": "code",
      "source": [],
      "metadata": {
        "id": "KI-agRTuIPvo"
      },
      "execution_count": null,
      "outputs": []
    },
    {
      "cell_type": "code",
      "source": [],
      "metadata": {
        "id": "rI5yieZjIP6b"
      },
      "execution_count": null,
      "outputs": []
    },
    {
      "cell_type": "code",
      "source": [],
      "metadata": {
        "id": "ItdH_DBLIQFi"
      },
      "execution_count": null,
      "outputs": []
    }
  ]
}